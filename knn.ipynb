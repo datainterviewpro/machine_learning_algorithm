{
 "cells": [
  {
   "cell_type": "code",
   "execution_count": 2,
   "metadata": {},
   "outputs": [],
   "source": [
    "import numpy as np"
   ]
  },
  {
   "cell_type": "code",
   "execution_count": 15,
   "metadata": {},
   "outputs": [],
   "source": [
    "class KNN:\n",
    "    def __init__(self):\n",
    "        self.x = None\n",
    "        self.y = None\n",
    "\n",
    "    def train(self, x, y):\n",
    "        self.x = x\n",
    "        self.y = y\n",
    "\n",
    "    def predict(self, x, k):\n",
    "        distance = [(self.distance(x, train_point), train_label)\n",
    "                    for train_point, train_label in zip(self.x, self.y)]\n",
    "        neighbors = sorted(distance)[:k]\n",
    "        return sum(label for _, label in neighbors) / k\n",
    "\n",
    "    def distance(self, x1, x2):\n",
    "        return sum((f1 - f2) ** 2 for f1, f2 in zip(x1, x2)) ** 0.5\n",
    "    "
   ]
  },
  {
   "cell_type": "code",
   "execution_count": 16,
   "metadata": {},
   "outputs": [],
   "source": [
    "x = [[i] for i in range(100)]\n",
    "y = list(range(100))"
   ]
  },
  {
   "cell_type": "code",
   "execution_count": 17,
   "metadata": {},
   "outputs": [
    {
     "data": {
      "text/plain": [
       "(100, 100)"
      ]
     },
     "execution_count": 17,
     "metadata": {},
     "output_type": "execute_result"
    }
   ],
   "source": [
    "len(x), len(y)"
   ]
  },
  {
   "cell_type": "code",
   "execution_count": 20,
   "metadata": {},
   "outputs": [
    {
     "data": {
      "text/plain": [
       "1.0"
      ]
     },
     "execution_count": 20,
     "metadata": {},
     "output_type": "execute_result"
    }
   ],
   "source": [
    "knn = KNN()\n",
    "knn.train(x, y)\n",
    "knn.predict([1], 3)"
   ]
  },
  {
   "cell_type": "code",
   "execution_count": 8,
   "metadata": {},
   "outputs": [
    {
     "name": "stdout",
     "output_type": "stream",
     "text": [
      "[0] 0\n"
     ]
    }
   ],
   "source": [
    "for train_point, train_label in zip(x, y):\n",
    "    print(train_point, train_label)\n",
    "    break"
   ]
  },
  {
   "cell_type": "code",
   "execution_count": 1,
   "metadata": {},
   "outputs": [],
   "source": [
    "class KNN_QUICK_SELECT:\n",
    "    def __init__(self):\n",
    "        self.x = None\n",
    "        self.y = None\n",
    "\n",
    "    def train(self, x, y):\n",
    "        self.x = x\n",
    "        self.y = y\n",
    "\n",
    "    def predict(self, x, k):\n",
    "        distance = [(self.distance(x, train_point), train_label)\n",
    "                    for train_point, train_label in zip(self.x, self.y)]\n",
    "        neighbors = quick_select(distance, k)\n",
    "        return sum(label for _, label in neighbors) / k\n",
    "\n",
    "    def distance(self, x1, x2):\n",
    "        return sum((f1 - f2) ** 2 for f1, f2 in zip(x1, x2)) ** 0.5\n",
    "\n",
    "    def quick_select(self, nums, k):\n",
    "        k -= 1\n",
    "        i, j = 0, len(nums) - 1\n",
    "        left, right = self.partition(nums, i, j)\n",
    "        while i < j:\n",
    "            if k <= right:\n",
    "                j = right\n",
    "            elif k >= left:\n",
    "                i = left\n",
    "            else:\n",
    "                break\n",
    "            left, right = self.partition(nums, i, j)\n",
    "        return right\n",
    "        \n",
    "    def partition(self, nums, i, j):\n",
    "        p = nums[(i + j) // 2][0]\n",
    "        while i <= j:\n",
    "            while i <= j and nums[j][0] > p:\n",
    "                j -= 1\n",
    "            while i <= j and nums[i][0] < p:\n",
    "                i += 1\n",
    "            if i <= j:\n",
    "                nums[i], nums[j] = nums[j], nums[i]\n",
    "                i += 1\n",
    "                j -= 1\n",
    "        return i, j"
   ]
  },
  {
   "cell_type": "code",
   "execution_count": 8,
   "metadata": {},
   "outputs": [],
   "source": [
    "knn = KNN_QUICK_SELECT()\n"
   ]
  },
  {
   "cell_type": "code",
   "execution_count": 16,
   "metadata": {},
   "outputs": [
    {
     "name": "stdout",
     "output_type": "stream",
     "text": [
      "[0, 6, 59]\n"
     ]
    },
    {
     "data": {
      "text/plain": [
       "59"
      ]
     },
     "execution_count": 16,
     "metadata": {},
     "output_type": "execute_result"
    }
   ],
   "source": [
    "l = np.random.randint(0, 100, 3)\n",
    "print(sorted(l))\n",
    "knn.quick_select(l, 3)"
   ]
  },
  {
   "cell_type": "code",
   "execution_count": 19,
   "metadata": {},
   "outputs": [
    {
     "data": {
      "text/plain": [
       "59"
      ]
     },
     "execution_count": 19,
     "metadata": {},
     "output_type": "execute_result"
    }
   ],
   "source": [
    "knn.quick_select(l, 3)"
   ]
  },
  {
   "cell_type": "code",
   "execution_count": null,
   "metadata": {},
   "outputs": [],
   "source": []
  }
 ],
 "metadata": {
  "kernelspec": {
   "display_name": "Python 3",
   "language": "python",
   "name": "python3"
  },
  "language_info": {
   "codemirror_mode": {
    "name": "ipython",
    "version": 3
   },
   "file_extension": ".py",
   "mimetype": "text/x-python",
   "name": "python",
   "nbconvert_exporter": "python",
   "pygments_lexer": "ipython3",
   "version": "3.7.7"
  }
 },
 "nbformat": 4,
 "nbformat_minor": 4
}
